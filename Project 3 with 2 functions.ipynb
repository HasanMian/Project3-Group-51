{
 "cells": [
  {
   "cell_type": "markdown",
   "id": "cddf5de3-a9f3-4471-bbaf-aca41a70ce89",
   "metadata": {},
   "source": [
    "### INST326 OOP Project 03"
   ]
  },
  {
   "cell_type": "markdown",
   "id": "2bb7f115-9eba-4f29-918e-b016e6a7edc8",
   "metadata": {},
   "source": [
    "Rename this notebook, replacing \"_Assignment\" with \"_YourName\"<br>\n",
    "Insert Signature Block Here"
   ]
  },
  {
   "cell_type": "markdown",
   "id": "8ee05bdb-db2d-41c2-9f23-3af75d058612",
   "metadata": {},
   "source": [
    "### The Project\n",
    "Everyone will do the same project this time. This is a group project, so you must work in your assigned groups. Include the link to your group's GitHub repository (one link per group). Use comments in your code to document your solution. If you need to write comments to the grader, add a markdown cell immediately above your code solution and add your comments there. Be sure to read and follow all the requirements and the Notebook Instructions at the bottom of this notebook. Your grade may depend on it!"
   ]
  },
  {
   "cell_type": "markdown",
   "id": "a1c98e85-2c64-4a03-8309-d91035cca6d2",
   "metadata": {},
   "source": [
    "#### 1. A Scheduling Program\r",
    ">  My wife is responsible for scheduling caregivers for her 93 year-old mother. Currently she writes out the schedule on a monthly calendar and photocopies it for everyone. I want all of you to help me write a program to help her with scheduling. While this is a specific application, this program will be broadly useful and adaptable to any scheduling needs for small businesses, clubs, and more."
   ]
  },
  {
   "cell_type": "markdown",
   "id": "28b28d8a-dbb3-4f15-bbe0-e14504b84876",
   "metadata": {},
   "source": [
    "#### Requirements\n",
    ">  Care is required 12 hours per day, 7 days a week. There are two shifts each day: 7:00 AM - 1:00 PM, and 1:00 PM to 7:00 PM. There are a total of 8 caregivers. Some are family members and some are paid. Each caregiver has their own availability for shifts that is generally the same from month to month, but there are exceptions for work, vacations, and other responsibilities. Your program should do the following:\n",
    "> 1. Manage caregivers and their schedules. Attributes include: name, phone, email, pay rate, and hours.\n",
    "> 2. Each caregiver should have their own availability schedule where they can indicate their availability for each shift. Availability categories are 'preferred', 'available' (default), and 'unavailable'.\n",
    "> 3. Create a care schedule that covers AM and PM shifts and displays caregiver names on a calendar (see example). The schedule should accomodate caregivers' individual schedules and availability preferences. The python calendar module provides options for creating HTML calendars. Sample code for the HTML calendar is in the project folder.\n",
    "> 4. Paid caregivers are paid weekly at $20/hr. Your program should calculate weekly pay based on assigned hours. Provide a separate pay report that lists weekly (gross: hours x rate) amounts to each caregiver, along with weekly and monthly totals. The report can be a text document, or presented in GUI or HTML format. "
   ]
  },
  {
   "cell_type": "markdown",
   "id": "6708f6cf-aac7-430e-947d-6f9c8dd161f6",
   "metadata": {
    "jp-MarkdownHeadingCollapsed": true
   },
   "source": [
    "#### Group Requirements\n",
    ">  1. Your submitted project should follow OOP principles like abstraction, encapsulation, inheritance, and polymorphism as appropriate. Your program should use classes. \n",
    ">  2. Select a group leader who will host the group's project repository on their GitHub.\n",
    ">  3. Create the group repository and add a main program document. See example.\n",
    ">  4. Create branches off the main program for each group member, and assign part of the program to each member.\n",
    ">  5. Each member should work on their branch.\n",
    ">  6. When each member is finished, merge the branches back into the main program. You may use 'merge' or 'pull requests', your choice.\n",
    ">  7. iterate and debug as necessary."
   ]
  },
  {
   "cell_type": "markdown",
   "id": "71b8f18e-607a-4c94-81a3-ebbc488ba8c6",
   "metadata": {},
   "source": [
    "#### Working with HTML\n",
    "> Since this is a course on python, not HTML, you are not expected to know HTML. Therefore, you may copy applicable portions of the sample code or use AI to write the HTML portions of your application. Ypu should write the main python code yourself.\n"
   ]
  },
  {
   "cell_type": "markdown",
   "id": "fc336368-4292-42af-aa60-06b27ff6b303",
   "metadata": {
    "jp-MarkdownHeadingCollapsed": true
   },
   "source": [
    "#### What you need to turn in\n",
    ">  This is a group project. There will be one submission per group. Your submission will be graded as a group.\n",
    ">  1. Include your group number and the names of all group members in the signature block at the top of this notebook.\n",
    ">  2. In the cell below, paste the link to your project repository. One link per group. The grader will review the activity and history provided by GitHub. To add a hyperlink to a Jupyter markdown cell, follow the instructions in the cell below.\n",
    ">  3. Below the GitHub Repository Link cell is a code cell. Copy and paste your final program code into this cell."
   ]
  },
  {
   "cell_type": "markdown",
   "id": "3ece03e6-a41f-484d-8417-d8c4e156b2c0",
   "metadata": {},
   "source": [
    "#### GitHub Repository Link\n",
    "> Example: [INST326_Fall2024/Projects/Project03](https://github.com/sdempwolf/INST326_Fall_2024/tree/main/Projects/Project03)\n",
    ">\n",
    "> Edit the link code below with your information, then run this cell. Test the link! It should take you to your GitHub project repository.\n",
    "> [external link text](http://url_here)"
   ]
  },
  {
   "cell_type": "code",
   "execution_count": null,
   "id": "cb35b908-6683-4144-816c-051715925504",
   "metadata": {},
   "outputs": [],
   "source": [
    "# Solution - enter your code solution below\n"
   ]
  },
  {
   "cell_type": "markdown",
   "id": "ec8ddd19-87cd-475d-a07f-7dc8983dc636",
   "metadata": {},
   "source": [
    "### Notebook Instructions\n",
    "> Before turning in your notebook:\n",
    "> 1. Make sure you have renamed the notebook file as instructed\n",
    "> 2. Make sure you have included your signature block and that it is correct according to the instructions\n",
    "> 3. comment your code as necessary\n",
    "> 4. run all code cells and double check that they run correctly. If you can't get your code to run correctly and you want partial credit, add a note for the grader in a new markdown cell directly above your code solution.<br><br>\n",
    "Turn in your notebook by uploading it to ELMS<br>\n",
    "IF the exercises involve saved data files, put your notebook and the data file(s) in a zip folder and upload the zip folder to ELMS"
   ]
  },
  {
   "cell_type": "code",
   "execution_count": 9,
   "id": "c2f96be2-9bc0-46ea-98fb-51d8c07c7de8",
   "metadata": {},
   "outputs": [
    {
     "name": "stdout",
     "output_type": "stream",
     "text": [
      "Final Schedule: ['F', 'E', 'E', 'C', 'B', 'A', 'B', 'H', 'F', 'D', 'H', 'G', 'F', 'E']\n"
     ]
    }
   ],
   "source": [
    "import tkinter as tk\n",
    "import random\n",
    "\n",
    "class Employee:\n",
    "    def __init__(self, name, phone, email, pay_rate, hours):\n",
    "        self.name = name\n",
    "        self.availability = [\"Available\"] * 14\n",
    "\n",
    "def set_availability(employees):\n",
    "    root = tk.Tk()\n",
    "    root.title(\"Availability Schedule\")\n",
    "\n",
    "    shifts = [\"Mon 1 AM\", \"Mon 1 PM\", \"Tue 1 AM\", \"Tue 1 PM\", \n",
    "              \"Wed 1 AM\", \"Wed 1 PM\", \"Thu 1 AM\", \"Thu 1 PM\",\n",
    "              \"Fri 1 AM\", \"Fri 1 PM\", \"Sat 1 AM\", \"Sat 1 PM\",\n",
    "              \"Sun 1 AM\", \"Sun 1 PM\"]\n",
    "\n",
    "    availability_vars = {emp.name: [tk.StringVar(value=\"Available\") for _ in range(14)] for emp in employees}\n",
    "\n",
    "    def save_availability():\n",
    "        for emp in employees:\n",
    "            emp.availability = [var.get() for var in availability_vars[emp.name]]\n",
    "        root.destroy()\n",
    "\n",
    "    for i, emp in enumerate(employees):\n",
    "        tk.Label(root, text=emp.name).grid(row=0, column=i + 1)\n",
    "        for j, shift in enumerate(shifts):\n",
    "            tk.Label(root, text=shift).grid(row=j + 1, column=0)\n",
    "            tk.OptionMenu(root, availability_vars[emp.name][j], \"Available\", \"Preferred\", \"Unavailable\").grid(row=j + 1, column=i + 1)\n",
    "\n",
    "    tk.Button(root, text=\"Save\", command=save_availability).grid(row=len(shifts) + 1, columnspan=len(employees) + 1)\n",
    "    root.mainloop()\n",
    "\n",
    "    schedule = []\n",
    "    for i in range(14):\n",
    "        preferred = [emp for emp in employees if emp.availability[i] == \"Preferred\"]\n",
    "        available = [emp for emp in employees if emp.availability[i] in [\"Available\", \"Preferred\"]]\n",
    "        selected = random.choice(preferred) if preferred else (random.choice(available) if available else None)\n",
    "        schedule.append(selected.name if selected else \"Unassigned\")\n",
    "    return schedule\n",
    "\n",
    "employees = [\n",
    "    Employee(\"A\", \"1\", \"a@gmail.com\", 20.00, 40),\n",
    "    Employee(\"B\", \"2\", \"b@gmail.com\", 21.00, 40),\n",
    "    Employee(\"C\", \"3\", \"c@gmail.com\", 22.00, 40),\n",
    "    Employee(\"D\", \"4\", \"d@gmail.com\", 23.00, 40),\n",
    "    Employee(\"E\", \"5\", \"e@gmail.com\", 24.00, 40),\n",
    "    Employee(\"F\", \"6\", \"f@gmail.com\", 25.00, 40),\n",
    "    Employee(\"G\", \"7\", \"g@gmail.com\", 26.00, 40),\n",
    "    Employee(\"H\", \"8\", \"h@gmail.com\", 27.00, 40),\n",
    "]\n",
    "\n",
    "schedule = set_availability(employees)\n",
    "print(\"Final Schedule:\", schedule)\n"
   ]
  },
  {
   "cell_type": "code",
   "execution_count": 7,
   "id": "e653c18b-5bf4-42d8-bdf7-46b25e951061",
   "metadata": {},
   "outputs": [
    {
     "data": {
      "text/html": [
       "<table border='1' style='border-collapse: collapse; width: 100%; text-align: center;'><tr><th>Day</th><th>7 AM - 1 PM Shift</th><th>1 PM - 7 PM Shift</th></tr><tr><td>Monday</td><td>A</td><td>B</td></tr><tr><td>Tuesday</td><td>C</td><td>D</td></tr><tr><td>Wednesday</td><td>E</td><td>F</td></tr><tr><td>Thursday</td><td>G</td><td>H</td></tr><tr><td>Friday</td><td>I</td><td>J</td></tr><tr><td>Saturday</td><td>K</td><td>L</td></tr><tr><td>Sunday</td><td>M</td><td>N</td></tr></table>"
      ],
      "text/plain": [
       "<IPython.core.display.HTML object>"
      ]
     },
     "execution_count": 7,
     "metadata": {},
     "output_type": "execute_result"
    }
   ],
   "source": [
    "from IPython.display import HTML\n",
    "\n",
    "def generate_weekly_schedule(caregivers):\n",
    "    if len(caregivers) != 14:\n",
    "        raise ValueError(\"Please provide exactly 14 caregiver names for the shifts.\")\n",
    "    \n",
    "    days_of_week = [\"Monday\", \"Tuesday\", \"Wednesday\", \"Thursday\", \"Friday\", \"Saturday\", \"Sunday\"]\n",
    "    \n",
    "    html_content = \"<table border='1' style='border-collapse: collapse; width: 100%; text-align: center;'>\"\n",
    "    html_content += \"<tr><th>Day</th><th>7 AM - 1 PM Shift</th><th>1 PM - 7 PM Shift</th></tr>\"\n",
    "\n",
    "    caregiver_index = 0\n",
    "    for day in days_of_week:\n",
    "        morning_shift = caregivers[caregiver_index]\n",
    "        afternoon_shift = caregivers[caregiver_index + 1]\n",
    "        \n",
    "        # Add a row for the day with assigned caregivers\n",
    "        html_content += f\"<tr><td>{day}</td><td>{morning_shift}</td><td>{afternoon_shift}</td></tr>\"\n",
    "        caregiver_index += 2\n",
    "\n",
    "    html_content += \"</table>\"\n",
    "    return HTML(html_content)\n",
    "\n",
    "caregivers = [\"A\", \"B\", \"C\", \"D\", \"E\", \"F\", \"G\", \"H\", \"I\", \"J\", \"K\", \"L\", \"M\", \"N\"]\n",
    "\n",
    "generate_weekly_schedule(caregivers)\n"
   ]
  }
 ],
 "metadata": {
  "kernelspec": {
   "display_name": "Python 3 (ipykernel)",
   "language": "python",
   "name": "python3"
  },
  "language_info": {
   "codemirror_mode": {
    "name": "ipython",
    "version": 3
   },
   "file_extension": ".py",
   "mimetype": "text/x-python",
   "name": "python",
   "nbconvert_exporter": "python",
   "pygments_lexer": "ipython3",
   "version": "3.8.18"
  }
 },
 "nbformat": 4,
 "nbformat_minor": 5
}

def calculate_weekly_pay(employees):
# Calculates and displays weekly pay for all employees scheduled for the week

pay_report = []
for emp in employees:
    weekly_pay = emp.pay_rate * emp.hours
    pay_report.append(
